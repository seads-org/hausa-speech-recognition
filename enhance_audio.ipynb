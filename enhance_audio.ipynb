{
 "cells": [
  {
   "cell_type": "code",
   "execution_count": 3,
   "metadata": {
    "collapsed": true
   },
   "outputs": [
    {
     "name": "stdout",
     "output_type": "stream",
     "text": [
      "Collecting torchaudio\r\n",
      "  Using cached torchaudio-0.13.0-cp38-cp38-manylinux1_x86_64.whl (4.2 MB)\r\n",
      "Collecting librosa\r\n",
      "  Using cached librosa-0.9.2-py3-none-any.whl (214 kB)\r\n",
      "Collecting jiwer\r\n",
      "  Using cached jiwer-2.5.1-py3-none-any.whl (15 kB)\r\n",
      "Collecting datasets\r\n",
      "  Downloading datasets-2.7.1-py3-none-any.whl (451 kB)\r\n",
      "\u001B[2K     \u001B[38;2;114;156;31m━━━━━━━━━━━━━━━━━━━━━━━━━━━━━━━━━━━━━━━\u001B[0m \u001B[32m451.7/451.7 kB\u001B[0m \u001B[31m2.2 MB/s\u001B[0m eta \u001B[36m0:00:00\u001B[0m MB/s\u001B[0m eta \u001B[36m0:00:01\u001B[0m:01\u001B[0m\r\n",
      "\u001B[?25hCollecting transformers\r\n",
      "  Using cached transformers-4.24.0-py3-none-any.whl (5.5 MB)\r\n",
      "Collecting huggingface_hub\r\n",
      "  Downloading huggingface_hub-0.11.1-py3-none-any.whl (182 kB)\r\n",
      "\u001B[2K     \u001B[38;2;114;156;31m━━━━━━━━━━━━━━━━━━━━━━━━━━━━━━━━━━━━━━━\u001B[0m \u001B[32m182.4/182.4 kB\u001B[0m \u001B[31m4.6 MB/s\u001B[0m eta \u001B[36m0:00:00\u001B[0m MB/s\u001B[0m eta \u001B[36m0:00:01\u001B[0m\r\n",
      "\u001B[?25hCollecting evaluate\r\n",
      "  Downloading evaluate-0.3.0-py3-none-any.whl (72 kB)\r\n",
      "\u001B[2K     \u001B[38;2;114;156;31m━━━━━━━━━━━━━━━━━━━━━━━━━━━━━━━━━━━━━━━━\u001B[0m \u001B[32m72.9/72.9 kB\u001B[0m \u001B[31m4.8 MB/s\u001B[0m eta \u001B[36m0:00:00\u001B[0m\r\n",
      "\u001B[?25hCollecting python-dotenv\r\n",
      "  Using cached python_dotenv-0.21.0-py3-none-any.whl (18 kB)\r\n",
      "Collecting wandb\r\n",
      "  Using cached wandb-0.13.5-py2.py3-none-any.whl (1.9 MB)\r\n",
      "Collecting speechbrain\r\n",
      "  Downloading speechbrain-0.5.13-py3-none-any.whl (498 kB)\r\n",
      "\u001B[2K     \u001B[38;2;114;156;31m━━━━━━━━━━━━━━━━━━━━━━━━━━━━━━━━━━━━━━━\u001B[0m \u001B[32m499.0/499.0 kB\u001B[0m \u001B[31m3.2 MB/s\u001B[0m eta \u001B[36m0:00:00\u001B[0m[31m3.3 MB/s\u001B[0m eta \u001B[36m0:00:01\u001B[0m\r\n",
      "\u001B[?25hCollecting torch==1.13.0\r\n",
      "  Using cached torch-1.13.0-cp38-cp38-manylinux1_x86_64.whl (890.2 MB)\r\n",
      "Collecting nvidia-cublas-cu11==11.10.3.66\r\n",
      "  Using cached nvidia_cublas_cu11-11.10.3.66-py3-none-manylinux1_x86_64.whl (317.1 MB)\r\n",
      "Requirement already satisfied: typing-extensions in /home/vpetukhov/local/miniconda3/envs/nn_translation/lib/python3.8/site-packages (from torch==1.13.0->torchaudio) (4.3.0)\r\n",
      "Collecting nvidia-cuda-runtime-cu11==11.7.99\r\n",
      "  Using cached nvidia_cuda_runtime_cu11-11.7.99-py3-none-manylinux1_x86_64.whl (849 kB)\r\n",
      "Collecting nvidia-cuda-nvrtc-cu11==11.7.99\r\n",
      "  Using cached nvidia_cuda_nvrtc_cu11-11.7.99-2-py3-none-manylinux1_x86_64.whl (21.0 MB)\r\n",
      "Collecting nvidia-cudnn-cu11==8.5.0.96\r\n",
      "  Using cached nvidia_cudnn_cu11-8.5.0.96-2-py3-none-manylinux1_x86_64.whl (557.1 MB)\r\n",
      "Requirement already satisfied: wheel in /home/vpetukhov/local/miniconda3/envs/nn_translation/lib/python3.8/site-packages (from nvidia-cublas-cu11==11.10.3.66->torch==1.13.0->torchaudio) (0.37.1)\r\n",
      "Requirement already satisfied: setuptools in /home/vpetukhov/local/miniconda3/envs/nn_translation/lib/python3.8/site-packages (from nvidia-cublas-cu11==11.10.3.66->torch==1.13.0->torchaudio) (65.5.0)\r\n",
      "Collecting soundfile>=0.10.2\r\n",
      "  Using cached soundfile-0.11.0-py2.py3-none-any.whl (23 kB)\r\n",
      "Collecting scikit-learn>=0.19.1\r\n",
      "  Using cached scikit_learn-1.1.3-cp38-cp38-manylinux_2_17_x86_64.manylinux2014_x86_64.whl (31.2 MB)\r\n",
      "Collecting pooch>=1.0\r\n",
      "  Using cached pooch-1.6.0-py3-none-any.whl (56 kB)\r\n",
      "Requirement already satisfied: packaging>=20.0 in /home/vpetukhov/local/miniconda3/envs/nn_translation/lib/python3.8/site-packages (from librosa) (21.3)\r\n",
      "Collecting audioread>=2.1.9\r\n",
      "  Using cached audioread-3.0.0-py3-none-any.whl\r\n",
      "Requirement already satisfied: decorator>=4.0.10 in /home/vpetukhov/local/miniconda3/envs/nn_translation/lib/python3.8/site-packages (from librosa) (5.1.1)\r\n",
      "Collecting joblib>=0.14\r\n",
      "  Using cached joblib-1.2.0-py3-none-any.whl (297 kB)\r\n",
      "Collecting numpy>=1.17.0\r\n",
      "  Downloading numpy-1.23.5-cp38-cp38-manylinux_2_17_x86_64.manylinux2014_x86_64.whl (17.1 MB)\r\n",
      "\u001B[2K     \u001B[38;2;114;156;31m━━━━━━━━━━━━━━━━━━━━━━━━━━━━━━━━━━━━━━━━\u001B[0m \u001B[32m17.1/17.1 MB\u001B[0m \u001B[31m3.9 MB/s\u001B[0m eta \u001B[36m0:00:00\u001B[0mm eta \u001B[36m0:00:01\u001B[0m[36m0:00:01\u001B[0m\r\n",
      "\u001B[?25hCollecting resampy>=0.2.2\r\n",
      "  Using cached resampy-0.4.2-py3-none-any.whl (3.1 MB)\r\n",
      "Collecting scipy>=1.2.0\r\n",
      "  Using cached scipy-1.9.3-cp38-cp38-manylinux_2_17_x86_64.manylinux2014_x86_64.whl (33.8 MB)\r\n",
      "Collecting numba>=0.45.1\r\n",
      "  Using cached numba-0.56.4-cp38-cp38-manylinux2014_x86_64.manylinux_2_17_x86_64.whl (3.5 MB)\r\n",
      "Collecting levenshtein==0.20.2\r\n",
      "  Using cached Levenshtein-0.20.2-cp38-cp38-manylinux_2_17_x86_64.manylinux2014_x86_64.whl (1.4 MB)\r\n",
      "Collecting rapidfuzz<3.0.0,>=2.3.0\r\n",
      "  Using cached rapidfuzz-2.13.2-cp38-cp38-manylinux_2_17_x86_64.manylinux2014_x86_64.whl (2.2 MB)\r\n",
      "Collecting multiprocess\r\n",
      "  Using cached multiprocess-0.70.14-py38-none-any.whl (132 kB)\r\n",
      "Collecting pandas\r\n",
      "  Downloading pandas-1.5.2-cp38-cp38-manylinux_2_17_x86_64.manylinux2014_x86_64.whl (12.2 MB)\r\n",
      "\u001B[2K     \u001B[38;2;114;156;31m━━━━━━━━━━━━━━━━━━━━━━━━━━━━━━━━━━━━━━━━\u001B[0m \u001B[32m12.2/12.2 MB\u001B[0m \u001B[31m3.7 MB/s\u001B[0m eta \u001B[36m0:00:00\u001B[0mm eta \u001B[36m0:00:01\u001B[0m[36m0:00:01\u001B[0m\r\n",
      "\u001B[?25hCollecting pyyaml>=5.1\r\n",
      "  Using cached PyYAML-6.0-cp38-cp38-manylinux_2_5_x86_64.manylinux1_x86_64.manylinux_2_12_x86_64.manylinux2010_x86_64.whl (701 kB)\r\n",
      "Collecting tqdm>=4.62.1\r\n",
      "  Using cached tqdm-4.64.1-py2.py3-none-any.whl (78 kB)\r\n",
      "Collecting responses<0.19\r\n",
      "  Using cached responses-0.18.0-py3-none-any.whl (38 kB)\r\n",
      "Collecting dill<0.3.7\r\n",
      "  Using cached dill-0.3.6-py3-none-any.whl (110 kB)\r\n",
      "Collecting xxhash\r\n",
      "  Using cached xxhash-3.1.0-cp38-cp38-manylinux_2_17_x86_64.manylinux2014_x86_64.whl (212 kB)\r\n",
      "Collecting aiohttp\r\n",
      "  Using cached aiohttp-3.8.3-cp38-cp38-manylinux_2_17_x86_64.manylinux2014_x86_64.whl (1.0 MB)\r\n",
      "Collecting pyarrow>=6.0.0\r\n",
      "  Using cached pyarrow-10.0.1-cp38-cp38-manylinux_2_17_x86_64.manylinux2014_x86_64.whl (36.0 MB)\r\n",
      "Requirement already satisfied: requests>=2.19.0 in /home/vpetukhov/local/miniconda3/envs/nn_translation/lib/python3.8/site-packages (from datasets) (2.28.1)\r\n",
      "Collecting fsspec[http]>=2021.11.1\r\n",
      "  Using cached fsspec-2022.11.0-py3-none-any.whl (139 kB)\r\n",
      "Collecting filelock\r\n",
      "  Using cached filelock-3.8.0-py3-none-any.whl (10 kB)\r\n",
      "Collecting regex!=2019.12.17\r\n",
      "  Using cached regex-2022.10.31-cp38-cp38-manylinux_2_17_x86_64.manylinux2014_x86_64.whl (772 kB)\r\n",
      "Collecting tokenizers!=0.11.3,<0.14,>=0.11.1\r\n",
      "  Using cached tokenizers-0.13.2-cp38-cp38-manylinux_2_17_x86_64.manylinux2014_x86_64.whl (7.6 MB)\r\n",
      "Collecting protobuf!=4.0.*,!=4.21.0,<5,>=3.12.0\r\n",
      "  Using cached protobuf-4.21.9-cp37-abi3-manylinux2014_x86_64.whl (408 kB)\r\n",
      "Collecting pathtools\r\n",
      "  Using cached pathtools-0.1.2-py3-none-any.whl\r\n",
      "Collecting sentry-sdk>=1.0.0\r\n",
      "  Downloading sentry_sdk-1.11.1-py2.py3-none-any.whl (168 kB)\r\n",
      "\u001B[2K     \u001B[38;2;114;156;31m━━━━━━━━━━━━━━━━━━━━━━━━━━━━━━━━━━━━━━━\u001B[0m \u001B[32m169.0/169.0 kB\u001B[0m \u001B[31m4.1 MB/s\u001B[0m eta \u001B[36m0:00:00\u001B[0m[31m4.7 MB/s\u001B[0m eta \u001B[36m0:00:01\u001B[0m\r\n",
      "\u001B[?25hCollecting Click!=8.0.0,>=7.0\r\n",
      "  Using cached click-8.1.3-py3-none-any.whl (96 kB)\r\n",
      "Collecting shortuuid>=0.5.0\r\n",
      "  Downloading shortuuid-1.0.11-py3-none-any.whl (10 kB)\r\n",
      "Collecting docker-pycreds>=0.4.0\r\n",
      "  Using cached docker_pycreds-0.4.0-py2.py3-none-any.whl (9.0 kB)\r\n",
      "Requirement already satisfied: six>=1.13.0 in /home/vpetukhov/local/miniconda3/envs/nn_translation/lib/python3.8/site-packages (from wandb) (1.16.0)\r\n",
      "Collecting GitPython>=1.0.0\r\n",
      "  Using cached GitPython-3.1.29-py3-none-any.whl (182 kB)\r\n",
      "Requirement already satisfied: psutil>=5.0.0 in /home/vpetukhov/local/miniconda3/envs/nn_translation/lib/python3.8/site-packages (from wandb) (5.9.0)\r\n",
      "Collecting promise<3,>=2.0\r\n",
      "  Using cached promise-2.3-py3-none-any.whl\r\n",
      "Collecting setproctitle\r\n",
      "  Using cached setproctitle-1.3.2-cp38-cp38-manylinux_2_5_x86_64.manylinux1_x86_64.manylinux_2_17_x86_64.manylinux2014_x86_64.whl (31 kB)\r\n",
      "Collecting hyperpyyaml\r\n",
      "  Downloading HyperPyYAML-1.1.0-py3-none-any.whl (15 kB)\r\n",
      "Collecting sentencepiece\r\n",
      "  Using cached sentencepiece-0.1.97-cp38-cp38-manylinux_2_17_x86_64.manylinux2014_x86_64.whl (1.3 MB)\r\n",
      "Requirement already satisfied: charset-normalizer<3.0,>=2.0 in /home/vpetukhov/local/miniconda3/envs/nn_translation/lib/python3.8/site-packages (from aiohttp->datasets) (2.0.4)\r\n",
      "Collecting frozenlist>=1.1.1\r\n",
      "  Using cached frozenlist-1.3.3-cp38-cp38-manylinux_2_5_x86_64.manylinux1_x86_64.manylinux_2_17_x86_64.manylinux2014_x86_64.whl (161 kB)\r\n",
      "Collecting multidict<7.0,>=4.5\r\n",
      "  Using cached multidict-6.0.2-cp38-cp38-manylinux_2_17_x86_64.manylinux2014_x86_64.whl (121 kB)\r\n",
      "Collecting yarl<2.0,>=1.0\r\n",
      "  Using cached yarl-1.8.1-cp38-cp38-manylinux_2_17_x86_64.manylinux2014_x86_64.whl (262 kB)\r\n",
      "Requirement already satisfied: attrs>=17.3.0 in /home/vpetukhov/local/miniconda3/envs/nn_translation/lib/python3.8/site-packages (from aiohttp->datasets) (22.1.0)\r\n",
      "Collecting async-timeout<5.0,>=4.0.0a3\r\n",
      "  Using cached async_timeout-4.0.2-py3-none-any.whl (5.8 kB)\r\n",
      "Collecting aiosignal>=1.1.2\r\n",
      "  Using cached aiosignal-1.3.1-py3-none-any.whl (7.6 kB)\r\n",
      "Collecting gitdb<5,>=4.0.1\r\n",
      "  Downloading gitdb-4.0.10-py3-none-any.whl (62 kB)\r\n",
      "\u001B[2K     \u001B[38;2;114;156;31m━━━━━━━━━━━━━━━━━━━━━━━━━━━━━━━━━━━━━━━━\u001B[0m \u001B[32m62.7/62.7 kB\u001B[0m \u001B[31m1.2 MB/s\u001B[0m eta \u001B[36m0:00:00\u001B[0m\u001B[36m0:00:01\u001B[0m\r\n",
      "\u001B[?25hCollecting llvmlite<0.40,>=0.39.0dev0\r\n",
      "  Using cached llvmlite-0.39.1-cp38-cp38-manylinux_2_17_x86_64.manylinux2014_x86_64.whl (34.6 MB)\r\n",
      "Requirement already satisfied: importlib-metadata in /home/vpetukhov/local/miniconda3/envs/nn_translation/lib/python3.8/site-packages (from numba>=0.45.1->librosa) (4.11.3)\r\n",
      "Requirement already satisfied: pyparsing!=3.0.5,>=2.0.2 in /home/vpetukhov/local/miniconda3/envs/nn_translation/lib/python3.8/site-packages (from packaging>=20.0->librosa) (3.0.9)\r\n",
      "Collecting appdirs>=1.3.0\r\n",
      "  Using cached appdirs-1.4.4-py2.py3-none-any.whl (9.6 kB)\r\n",
      "Requirement already satisfied: certifi>=2017.4.17 in /home/vpetukhov/local/miniconda3/envs/nn_translation/lib/python3.8/site-packages (from requests>=2.19.0->datasets) (2022.9.24)\r\n",
      "Requirement already satisfied: idna<4,>=2.5 in /home/vpetukhov/local/miniconda3/envs/nn_translation/lib/python3.8/site-packages (from requests>=2.19.0->datasets) (3.4)\r\n",
      "Requirement already satisfied: urllib3<1.27,>=1.21.1 in /home/vpetukhov/local/miniconda3/envs/nn_translation/lib/python3.8/site-packages (from requests>=2.19.0->datasets) (1.26.12)\r\n",
      "Collecting threadpoolctl>=2.0.0\r\n",
      "  Using cached threadpoolctl-3.1.0-py3-none-any.whl (14 kB)\r\n",
      "Requirement already satisfied: cffi>=1.0 in /home/vpetukhov/local/miniconda3/envs/nn_translation/lib/python3.8/site-packages (from soundfile>=0.10.2->librosa) (1.15.1)\r\n",
      "Collecting ruamel.yaml>=0.17.8\r\n",
      "  Using cached ruamel.yaml-0.17.21-py3-none-any.whl (109 kB)\r\n",
      "Requirement already satisfied: pytz>=2020.1 in /home/vpetukhov/local/miniconda3/envs/nn_translation/lib/python3.8/site-packages (from pandas->datasets) (2022.1)\r\n",
      "Requirement already satisfied: python-dateutil>=2.8.1 in /home/vpetukhov/local/miniconda3/envs/nn_translation/lib/python3.8/site-packages (from pandas->datasets) (2.8.2)\r\n",
      "Requirement already satisfied: pycparser in /home/vpetukhov/local/miniconda3/envs/nn_translation/lib/python3.8/site-packages (from cffi>=1.0->soundfile>=0.10.2->librosa) (2.21)\r\n",
      "Collecting smmap<6,>=3.0.1\r\n",
      "  Using cached smmap-5.0.0-py3-none-any.whl (24 kB)\r\n",
      "Collecting ruamel.yaml.clib>=0.2.6\r\n",
      "  Downloading ruamel.yaml.clib-0.2.7-cp38-cp38-manylinux_2_17_x86_64.manylinux2014_x86_64.manylinux_2_24_x86_64.whl (555 kB)\r\n",
      "\u001B[2K     \u001B[38;2;114;156;31m━━━━━━━━━━━━━━━━━━━━━━━━━━━━━━━━━━━━━━━\u001B[0m \u001B[32m555.3/555.3 kB\u001B[0m \u001B[31m3.1 MB/s\u001B[0m eta \u001B[36m0:00:00\u001B[0m[31m3.3 MB/s\u001B[0m eta \u001B[36m0:00:01\u001B[0m\r\n",
      "\u001B[?25hRequirement already satisfied: zipp>=0.5 in /home/vpetukhov/local/miniconda3/envs/nn_translation/lib/python3.8/site-packages (from importlib-metadata->numba>=0.45.1->librosa) (3.8.0)\r\n",
      "Installing collected packages: tokenizers, sentencepiece, pathtools, appdirs, xxhash, tqdm, threadpoolctl, smmap, shortuuid, setproctitle, sentry-sdk, ruamel.yaml.clib, regex, rapidfuzz, pyyaml, python-dotenv, protobuf, promise, nvidia-cuda-runtime-cu11, nvidia-cuda-nvrtc-cu11, nvidia-cublas-cu11, numpy, multidict, llvmlite, joblib, fsspec, frozenlist, filelock, docker-pycreds, dill, Click, audioread, async-timeout, yarl, soundfile, scipy, ruamel.yaml, responses, pyarrow, pooch, pandas, nvidia-cudnn-cu11, numba, multiprocess, levenshtein, huggingface_hub, gitdb, aiosignal, transformers, torch, scikit-learn, resampy, jiwer, hyperpyyaml, GitPython, aiohttp, wandb, torchaudio, librosa, speechbrain, datasets, evaluate\r\n",
      "Successfully installed Click-8.1.3 GitPython-3.1.29 aiohttp-3.8.3 aiosignal-1.3.1 appdirs-1.4.4 async-timeout-4.0.2 audioread-3.0.0 datasets-2.7.1 dill-0.3.6 docker-pycreds-0.4.0 evaluate-0.3.0 filelock-3.8.0 frozenlist-1.3.3 fsspec-2022.11.0 gitdb-4.0.10 huggingface_hub-0.11.1 hyperpyyaml-1.1.0 jiwer-2.5.1 joblib-1.2.0 levenshtein-0.20.2 librosa-0.9.2 llvmlite-0.39.1 multidict-6.0.2 multiprocess-0.70.14 numba-0.56.4 numpy-1.23.5 nvidia-cublas-cu11-11.10.3.66 nvidia-cuda-nvrtc-cu11-11.7.99 nvidia-cuda-runtime-cu11-11.7.99 nvidia-cudnn-cu11-8.5.0.96 pandas-1.5.2 pathtools-0.1.2 pooch-1.6.0 promise-2.3 protobuf-4.21.9 pyarrow-10.0.1 python-dotenv-0.21.0 pyyaml-6.0 rapidfuzz-2.13.2 regex-2022.10.31 resampy-0.4.2 responses-0.18.0 ruamel.yaml-0.17.21 ruamel.yaml.clib-0.2.7 scikit-learn-1.1.3 scipy-1.9.3 sentencepiece-0.1.97 sentry-sdk-1.11.1 setproctitle-1.3.2 shortuuid-1.0.11 smmap-5.0.0 soundfile-0.11.0 speechbrain-0.5.13 threadpoolctl-3.1.0 tokenizers-0.13.2 torch-1.13.0 torchaudio-0.13.0 tqdm-4.64.1 transformers-4.24.0 wandb-0.13.5 xxhash-3.1.0 yarl-1.8.1\r\n"
     ]
    }
   ],
   "source": [
    "!pip install -U torchaudio librosa jiwer datasets transformers huggingface_hub evaluate python-dotenv wandb speechbrain"
   ]
  },
  {
   "cell_type": "code",
   "execution_count": 54,
   "metadata": {
    "collapsed": false
   },
   "outputs": [],
   "source": [
    "import torch\n",
    "import torchaudio\n",
    "from speechbrain.pretrained import SpectralMaskEnhancement, SepformerSeparation, VAD\n",
    "\n",
    "SAMPLE_RATE = 16_000;"
   ]
  },
  {
   "cell_type": "code",
   "execution_count": 22,
   "metadata": {
    "collapsed": false
   },
   "outputs": [],
   "source": [
    "# audio_path = \"/home/vpetukhov/other/Consulting/SEADS/FEM/survey_data/test_audio/test_hausa.wav\""
   ]
  },
  {
   "cell_type": "code",
   "execution_count": 49,
   "metadata": {
    "collapsed": false
   },
   "outputs": [],
   "source": [
    "audio_path_raw = \"/home/vpetukhov/other/Consulting/SEADS/FEM/survey_data/audio/1663777780248.wav\"\n",
    "audio_path = audio_path_raw.split(\".\")[0] + f\"_{SAMPLE_RATE // 1000}k.wav\"\n",
    "\n",
    "arr, org_sr = torchaudio.load(audio_path_raw)\n",
    "arr = torchaudio.functional.resample(arr, orig_freq=org_sr, new_freq=SAMPLE_RATE)\n",
    "torchaudio.save(audio_path, src=arr, sample_rate=SAMPLE_RATE)"
   ]
  },
  {
   "cell_type": "markdown",
   "metadata": {
    "collapsed": false
   },
   "source": [
    "## Voice Activity Detection"
   ]
  },
  {
   "cell_type": "code",
   "execution_count": 87,
   "metadata": {
    "collapsed": false
   },
   "outputs": [
    {
     "name": "stdout",
     "output_type": "stream",
     "text": [
      "segment_001  0.00  244000.00 SPEECH\n",
      "segment_002  244000.00  259199.00 NON_SPEECH\n",
      "segment_003  259199.00  954560.00 SPEECH\n",
      "segment_004  954560.00  960000.00 NON_SPEECH\n",
      "segment_005  960000.00  974560.00 SPEECH\n",
      "segment_006  974560.00  1027199.00 NON_SPEECH\n",
      "segment_007  1027199.00  2027519.00 SPEECH\n",
      "segment_008  2027519.00  2080000.00 NON_SPEECH\n",
      "segment_009  2080000.00  2155839.00 SPEECH\n",
      "segment_010  2155839.00  2190079.00 NON_SPEECH\n",
      "segment_011  2190079.00  3180800.00 SPEECH\n",
      "segment_012  3180800.00  3200000.00 NON_SPEECH\n",
      "segment_013  3200000.00  4704640.00 SPEECH\n",
      "segment_014  4704640.00  5120000.00 NON_SPEECH\n",
      "segment_015  5120000.00  5175520.00 SPEECH\n",
      "segment_016  5175520.00  5280000.00 NON_SPEECH\n",
      "segment_017  5280000.00  5356159.00 SPEECH\n",
      "segment_018  5356159.00  5440000.00 NON_SPEECH\n",
      "segment_019  5440000.00  5459679.00 SPEECH\n",
      "segment_020  5459679.00  5800159.00 NON_SPEECH\n",
      "segment_021  5800159.00  6244320.00 SPEECH\n",
      "segment_022  6244320.00  6273440.00 NON_SPEECH\n",
      "segment_023  6273440.00  6397280.00 SPEECH\n",
      "segment_024  6397280.00  6560000.00 NON_SPEECH\n",
      "segment_025  6560000.00  7669760.00 SPEECH\n",
      "segment_026  7669760.00  7680000.00 NON_SPEECH\n",
      "segment_027  7680000.00  8835520.00 SPEECH\n",
      "segment_028  8835520.00  8861920.00 NON_SPEECH\n",
      "segment_029  8861920.00  11638080.00 SPEECH\n",
      "segment_030  11638080.00  11955359.00 NON_SPEECH\n",
      "segment_031  11955359.00  12213120.00 SPEECH\n",
      "segment_032  12213120.00  12349279.00 NON_SPEECH\n",
      "segment_033  12349279.00  12421600.00 SPEECH\n",
      "segment_034  12421600.00  12443520.00 NON_SPEECH\n",
      "segment_035  12443520.00  12920960.00 SPEECH\n",
      "segment_036  12920960.00  12960000.00 NON_SPEECH\n",
      "segment_037  12960000.00  13976160.00 SPEECH\n",
      "segment_038  13976160.00  14030239.00 NON_SPEECH\n",
      "segment_039  14030239.00  15031680.00 SPEECH\n",
      "segment_040  15031680.00  15056640.00 NON_SPEECH\n",
      "segment_041  15056640.00  17748958.00 SPEECH\n",
      "segment_042  17748958.00  17760000.00 NON_SPEECH\n",
      "segment_043  17760000.00  18007360.00 SPEECH\n",
      "segment_044  18007360.00  18080000.00 NON_SPEECH\n",
      "segment_045  18080000.00  18877440.00 SPEECH\n",
      "segment_046  18877440.00  18922080.00 NON_SPEECH\n",
      "segment_047  18922080.00  20522878.00 SPEECH\n",
      "segment_048  20522878.00  20556320.00 NON_SPEECH\n",
      "segment_049  20556320.00  20804638.00 SPEECH\n"
     ]
    }
   ],
   "source": [
    "vad = VAD.from_hparams(source=\"speechbrain/vad-crdnn-libriparty\")\n",
    "boundaries = vad.get_speech_segments(audio_path)\n",
    "vad.save_boundaries(boundaries, print_boundaries=True)"
   ]
  },
  {
   "cell_type": "code",
   "execution_count": 60,
   "metadata": {
    "collapsed": false
   },
   "outputs": [],
   "source": [
    "boundaries = (boundaries * SAMPLE_RATE).detach().numpy().astype(int)"
   ]
  },
  {
   "cell_type": "code",
   "execution_count": 77,
   "metadata": {
    "collapsed": false
   },
   "outputs": [],
   "source": [
    "split_audio_path = audio_path_raw.split(\".\")[0] + \"_segments/\"\n",
    "for i,(s,e) in enumerate(boundaries):\n",
    "    if i % 2 != 0:\n",
    "        continue\n",
    "\n",
    "    torchaudio.save(split_audio_path + f\"/seg_{i // 2}.wav\", src=arr[:,s:e], sample_rate=SAMPLE_RATE)"
   ]
  },
  {
   "cell_type": "code",
   "execution_count": 86,
   "metadata": {
    "collapsed": false
   },
   "outputs": [
    {
     "data": {
      "text/plain": [
       "'/home/vpetukhov/other/Consulting/SEADS/FEM/survey_data/audio/1663777780248_segments/'"
      ]
     },
     "execution_count": 86,
     "metadata": {},
     "output_type": "execute_result"
    }
   ],
   "source": [
    "split_audio_path"
   ]
  },
  {
   "cell_type": "markdown",
   "metadata": {
    "collapsed": false
   },
   "source": [
    "## Enhance audio"
   ]
  },
  {
   "cell_type": "code",
   "execution_count": 82,
   "metadata": {
    "collapsed": false
   },
   "outputs": [],
   "source": [
    "sel_seg_path = split_audio_path + \"seg_8.wav\""
   ]
  },
  {
   "cell_type": "code",
   "execution_count": 83,
   "metadata": {
    "collapsed": false
   },
   "outputs": [],
   "source": [
    "enhance_model = SpectralMaskEnhancement.from_hparams(\"speechbrain/metricgan-plus-voicebank\")"
   ]
  },
  {
   "cell_type": "code",
   "execution_count": 85,
   "metadata": {
    "collapsed": false
   },
   "outputs": [],
   "source": [
    "noisy = enhance_model.load_audio(path=sel_seg_path).unsqueeze(0)\n",
    "\n",
    "# Add relative length tensor\n",
    "enhanced = enhance_model.enhance_batch(noisy, lengths=torch.tensor([1.]))\n",
    "\n",
    "# Saving enhanced signal on disk\n",
    "torchaudio.save(sel_seg_path.split(\".\")[0] + '_enhanced.wav', enhanced.cpu(), 16000)"
   ]
  },
  {
   "cell_type": "markdown",
   "metadata": {
    "collapsed": false
   },
   "source": [
    "## Split speakers"
   ]
  },
  {
   "cell_type": "code",
   "execution_count": 88,
   "metadata": {
    "collapsed": false
   },
   "outputs": [],
   "source": [
    "sel_seg_path = split_audio_path + \"seg_5.wav\""
   ]
  },
  {
   "cell_type": "code",
   "execution_count": 89,
   "metadata": {
    "collapsed": false
   },
   "outputs": [],
   "source": [
    "model = SepformerSeparation.from_hparams(source=\"speechbrain/sepformer-wham\", savedir='pretrained_models/sepformer-wham')"
   ]
  },
  {
   "cell_type": "code",
   "execution_count": 90,
   "metadata": {
    "collapsed": false
   },
   "outputs": [
    {
     "name": "stdout",
     "output_type": "stream",
     "text": [
      "Resampling the audio from 16000 Hz to 8000 Hz\n"
     ]
    }
   ],
   "source": [
    "est_sources = model.separate_file(path=sel_seg_path)\n",
    "\n",
    "torchaudio.save(sel_seg_path.split(\".\")[0] + '_s1.wav', est_sources[:, :, 0].detach().cpu(), 8000)\n",
    "torchaudio.save(sel_seg_path.split(\".\")[0] + '_s2.wav', est_sources[:, :, 1].detach().cpu(), 8000)"
   ]
  }
 ],
 "metadata": {
  "kernelspec": {
   "display_name": "Python 3 (ipykernel)",
   "language": "python",
   "name": "python3"
  }
 },
 "nbformat": 4,
 "nbformat_minor": 0
}
