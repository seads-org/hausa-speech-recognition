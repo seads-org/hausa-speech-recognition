{
 "cells": [
  {
   "cell_type": "code",
   "execution_count": 13,
   "metadata": {
    "collapsed": true
   },
   "outputs": [],
   "source": [
    "!pip install -U torchaudio librosa jiwer datasets transformers huggingface_hub evaluate python-dotenv wandb"
   ]
  },
  {
   "cell_type": "markdown",
   "metadata": {
    "collapsed": false
   },
   "source": [
    "## Load and prepare data"
   ]
  },
  {
   "cell_type": "code",
   "execution_count": 1,
   "metadata": {},
   "outputs": [
    {
     "data": {
      "text/plain": [
       "True"
      ]
     },
     "execution_count": 1,
     "metadata": {},
     "output_type": "execute_result"
    }
   ],
   "source": [
    "import os\n",
    "from dotenv import load_dotenv\n",
    "load_dotenv()"
   ]
  },
  {
   "cell_type": "code",
   "execution_count": 67,
   "metadata": {
    "collapsed": false
   },
   "outputs": [],
   "source": [
    "import evaluate\n",
    "from datasets import load_dataset, load_metric, Audio\n",
    "from pandas import DataFrame, Series\n",
    "import pandas as pd\n",
    "import numpy as np\n",
    "from functools import partial"
   ]
  },
  {
   "cell_type": "code",
   "execution_count": 69,
   "metadata": {},
   "outputs": [],
   "source": [
    "def normalize_sentence_ends(batch):\n",
    "  \"\"\"Function to preprocess the dataset with the .map method\"\"\"\n",
    "  transcription = batch[\"sentence\"]\n",
    "  \n",
    "  if transcription.startswith('\"') and transcription.endswith('\"'):\n",
    "    # we can remove trailing quotation marks as they do not affect the transcription\n",
    "    transcription = transcription[1:-1]\n",
    "  \n",
    "  if transcription[-1] not in [\".\", \"?\", \"!\"]:\n",
    "    # append a full-stop to sentences that do not end in punctuation\n",
    "    transcription = transcription + \".\"\n",
    "  \n",
    "  batch[\"sentence\"] = transcription\n",
    "  \n",
    "  return batch\n",
    "\n",
    "\n",
    "def prepare_model_inputs(batch, processor):\n",
    "    audio = batch[\"audio\"]\n",
    "\n",
    "    # batched output is \"un-batched\"\n",
    "    batch[\"input_values\"] = processor(audio[\"array\"], sampling_rate=audio[\"sampling_rate\"]).input_values[0]\n",
    "    batch[\"input_length\"] = len(batch[\"input_values\"])\n",
    "    \n",
    "    with processor.as_target_processor():\n",
    "        batch[\"labels\"] = processor(batch[\"sentence\"]).input_ids\n",
    "    return batch"
   ]
  },
  {
   "cell_type": "code",
   "execution_count": 75,
   "metadata": {},
   "outputs": [],
   "source": [
    "import torch\n",
    "\n",
    "from dataclasses import dataclass #, field\n",
    "# from typing import Any, Dict, List, Optional, Union\n",
    "from typing import Dict, List, Union\n",
    "\n",
    "@dataclass\n",
    "class DataCollatorCTCWithPadding:\n",
    "    \"\"\"\n",
    "    Data collator that will dynamically pad the inputs received.\n",
    "    Args:\n",
    "        processor (:class:`~transformers.Wav2Vec2Processor`)\n",
    "            The processor used for proccessing the data.\n",
    "        padding (:obj:`bool`, :obj:`str` or :class:`~transformers.tokenization_utils_base.PaddingStrategy`, `optional`, defaults to :obj:`True`):\n",
    "            Select a strategy to pad the returned sequences (according to the model's padding side and padding index)\n",
    "            among:\n",
    "            * :obj:`True` or :obj:`'longest'`: Pad to the longest sequence in the batch (or no padding if only a single\n",
    "              sequence if provided).\n",
    "            * :obj:`'max_length'`: Pad to a maximum length specified with the argument :obj:`max_length` or to the\n",
    "              maximum acceptable input length for the model if that argument is not provided.\n",
    "            * :obj:`False` or :obj:`'do_not_pad'` (default): No padding (i.e., can output a batch with sequences of\n",
    "              different lengths).\n",
    "    \"\"\"\n",
    "\n",
    "    processor: Wav2Vec2Processor\n",
    "    padding: Union[bool, str] = True\n",
    "\n",
    "    def __call__(self, features: List[Dict[str, Union[List[int], torch.Tensor]]]) -> Dict[str, torch.Tensor]:\n",
    "        # split inputs and labels since they have to be of different lenghts and need\n",
    "        # different padding methods\n",
    "        input_features = [{\"input_values\": feature[\"input_values\"]} for feature in features]\n",
    "        label_features = [{\"input_ids\": feature[\"labels\"]} for feature in features]\n",
    "\n",
    "        batch = self.processor.pad(\n",
    "            input_features,\n",
    "            padding=self.padding,\n",
    "            return_tensors=\"pt\",\n",
    "        )\n",
    "        with self.processor.as_target_processor():\n",
    "            labels_batch = self.processor.pad(\n",
    "                label_features,\n",
    "                padding=self.padding,\n",
    "                return_tensors=\"pt\",\n",
    "            )\n",
    "\n",
    "        # replace padding with -100 to ignore loss correctly\n",
    "        labels = labels_batch[\"input_ids\"].masked_fill(labels_batch.attention_mask.ne(1), -100)\n",
    "\n",
    "        batch[\"labels\"] = labels\n",
    "\n",
    "        return batch"
   ]
  },
  {
   "cell_type": "code",
   "execution_count": 52,
   "metadata": {
    "collapsed": false
   },
   "outputs": [
    {
     "name": "stderr",
     "output_type": "stream",
     "text": [
      "Found cached dataset common_voice_11_0 (/root/.cache/huggingface/datasets/mozilla-foundation___common_voice_11_0/ha/11.0.0/8975395f1d50a6b61f707acd3416761702d3b25412f5fb1004e1db51fe7c304a)\n",
      "Found cached dataset common_voice_11_0 (/root/.cache/huggingface/datasets/mozilla-foundation___common_voice_11_0/ha/11.0.0/8975395f1d50a6b61f707acd3416761702d3b25412f5fb1004e1db51fe7c304a)\n"
     ]
    }
   ],
   "source": [
    "dataset_card = \"mozilla-foundation/common_voice_11_0\"\n",
    "HF_TOKEN = os.getenv(\"HUGGING_FACE_ACCESS_TOKEN\")\n",
    "SAMPLING_RATE = 16_000\n",
    "\n",
    "common_voice_train = load_dataset(dataset_card, \"ha\", split=\"train+validation\", use_auth_token=HF_TOKEN)\n",
    "common_voice_test = load_dataset(dataset_card, \"ha\", split=\"test\", use_auth_token=HF_TOKEN)"
   ]
  },
  {
   "cell_type": "code",
   "execution_count": 53,
   "metadata": {},
   "outputs": [
    {
     "name": "stderr",
     "output_type": "stream",
     "text": [
      "Loading cached processed dataset at /root/.cache/huggingface/datasets/mozilla-foundation___common_voice_11_0/ha/11.0.0/8975395f1d50a6b61f707acd3416761702d3b25412f5fb1004e1db51fe7c304a/cache-05b881fe3c4eb9ae.arrow\n",
      "Loading cached processed dataset at /root/.cache/huggingface/datasets/mozilla-foundation___common_voice_11_0/ha/11.0.0/8975395f1d50a6b61f707acd3416761702d3b25412f5fb1004e1db51fe7c304a/cache-6fb9ccad3bde8b0f.arrow\n"
     ]
    }
   ],
   "source": [
    "rem_cols = [\"accent\", \"age\", \"client_id\", \"down_votes\", \"gender\", \"locale\", \"segment\", \"up_votes\"]\n",
    "\n",
    "# See https://huggingface.co/datasets/mozilla-foundation/common_voice_11_0\n",
    "common_voice_train, common_voice_test = [\n",
    "    ds.map(normalize_sentence_ends, desc=\"preprocess dataset\").\\\n",
    "        remove_columns(rem_cols).\\\n",
    "        cast_column(\"audio\", Audio(sampling_rate=SAMPLING_RATE))\n",
    "    for ds in [common_voice_train, common_voice_test]\n",
    "]"
   ]
  },
  {
   "cell_type": "code",
   "execution_count": 54,
   "metadata": {},
   "outputs": [
    {
     "data": {
      "text/html": [
       "<div>\n",
       "<style scoped>\n",
       "    .dataframe tbody tr th:only-of-type {\n",
       "        vertical-align: middle;\n",
       "    }\n",
       "\n",
       "    .dataframe tbody tr th {\n",
       "        vertical-align: top;\n",
       "    }\n",
       "\n",
       "    .dataframe thead th {\n",
       "        text-align: right;\n",
       "    }\n",
       "</style>\n",
       "<table border=\"1\" class=\"dataframe\">\n",
       "  <thead>\n",
       "    <tr style=\"text-align: right;\">\n",
       "      <th></th>\n",
       "      <th>path</th>\n",
       "      <th>audio</th>\n",
       "      <th>sentence</th>\n",
       "    </tr>\n",
       "  </thead>\n",
       "  <tbody>\n",
       "    <tr>\n",
       "      <th>0</th>\n",
       "      <td>/root/.cache/huggingface/datasets/downloads/ex...</td>\n",
       "      <td>{'path': '/root/.cache/huggingface/datasets/do...</td>\n",
       "      <td>An tuhumi Hassan da fitar da wasu muhimman bay...</td>\n",
       "    </tr>\n",
       "    <tr>\n",
       "      <th>1</th>\n",
       "      <td>/root/.cache/huggingface/datasets/downloads/ex...</td>\n",
       "      <td>{'path': '/root/.cache/huggingface/datasets/do...</td>\n",
       "      <td>Georege ya zana da'ira da sanda.</td>\n",
       "    </tr>\n",
       "    <tr>\n",
       "      <th>2</th>\n",
       "      <td>/root/.cache/huggingface/datasets/downloads/ex...</td>\n",
       "      <td>{'path': '/root/.cache/huggingface/datasets/do...</td>\n",
       "      <td>Tana karatun digiri ne na Ivy League.</td>\n",
       "    </tr>\n",
       "    <tr>\n",
       "      <th>3</th>\n",
       "      <td>/root/.cache/huggingface/datasets/downloads/ex...</td>\n",
       "      <td>{'path': '/root/.cache/huggingface/datasets/do...</td>\n",
       "      <td>Abdullahi ya ce Zulai ba ta da tabbacin ko Has...</td>\n",
       "    </tr>\n",
       "  </tbody>\n",
       "</table>\n",
       "</div>"
      ],
      "text/plain": [
       "                                                path  \\\n",
       "0  /root/.cache/huggingface/datasets/downloads/ex...   \n",
       "1  /root/.cache/huggingface/datasets/downloads/ex...   \n",
       "2  /root/.cache/huggingface/datasets/downloads/ex...   \n",
       "3  /root/.cache/huggingface/datasets/downloads/ex...   \n",
       "\n",
       "                                               audio  \\\n",
       "0  {'path': '/root/.cache/huggingface/datasets/do...   \n",
       "1  {'path': '/root/.cache/huggingface/datasets/do...   \n",
       "2  {'path': '/root/.cache/huggingface/datasets/do...   \n",
       "3  {'path': '/root/.cache/huggingface/datasets/do...   \n",
       "\n",
       "                                            sentence  \n",
       "0  An tuhumi Hassan da fitar da wasu muhimman bay...  \n",
       "1                   Georege ya zana da'ira da sanda.  \n",
       "2              Tana karatun digiri ne na Ivy League.  \n",
       "3  Abdullahi ya ce Zulai ba ta da tabbacin ko Has...  "
      ]
     },
     "execution_count": 54,
     "metadata": {},
     "output_type": "execute_result"
    }
   ],
   "source": [
    "DataFrame(common_voice_train[1:5])"
   ]
  },
  {
   "cell_type": "markdown",
   "metadata": {},
   "source": [
    "Remove special characters:"
   ]
  },
  {
   "cell_type": "code",
   "execution_count": 55,
   "metadata": {},
   "outputs": [
    {
     "data": {
      "application/vnd.jupyter.widget-view+json": {
       "model_id": "c7c2174a4cb14180b5e4233e110d3a94",
       "version_major": 2,
       "version_minor": 0
      },
      "text/plain": [
       "  0%|          | 0/2490 [00:00<?, ?ex/s]"
      ]
     },
     "metadata": {},
     "output_type": "display_data"
    },
    {
     "data": {
      "application/vnd.jupyter.widget-view+json": {
       "model_id": "c22a2851f7db49dd867c14fcfff18b97",
       "version_major": 2,
       "version_minor": 0
      },
      "text/plain": [
       "  0%|          | 0/542 [00:00<?, ?ex/s]"
      ]
     },
     "metadata": {},
     "output_type": "display_data"
    }
   ],
   "source": [
    "import re\n",
    "chars_to_remove_regex = '[\\,\\?\\.\\!\\-\\;\\:\\\"\\“\\%\\’\\ʻ\\”\\�\\']'\n",
    "\n",
    "def remove_special_characters(batch):\n",
    "    batch[\"sentence\"] = re.sub(chars_to_remove_regex, '', batch[\"sentence\"]).lower()\n",
    "    return batch\n",
    "\n",
    "\n",
    "common_voice_train, common_voice_test = [ds.map(remove_special_characters) for ds in [common_voice_train, common_voice_test]]"
   ]
  },
  {
   "cell_type": "code",
   "execution_count": 56,
   "metadata": {},
   "outputs": [],
   "source": [
    "def extract_all_chars(batch):\n",
    "  all_text = \" \".join(batch[\"sentence\"])\n",
    "  vocab = list(set(all_text))\n",
    "  return {\"vocab\": [vocab], \"all_text\": [all_text]}"
   ]
  },
  {
   "cell_type": "code",
   "execution_count": 57,
   "metadata": {},
   "outputs": [
    {
     "data": {
      "application/vnd.jupyter.widget-view+json": {
       "model_id": "811d464af44042a79a3c1a904f8379a8",
       "version_major": 2,
       "version_minor": 0
      },
      "text/plain": [
       "  0%|          | 0/1 [00:00<?, ?ba/s]"
      ]
     },
     "metadata": {},
     "output_type": "display_data"
    },
    {
     "data": {
      "application/vnd.jupyter.widget-view+json": {
       "model_id": "3bdb9ca35eaa483bb6716f62fa01ada9",
       "version_major": 2,
       "version_minor": 0
      },
      "text/plain": [
       "  0%|          | 0/1 [00:00<?, ?ba/s]"
      ]
     },
     "metadata": {},
     "output_type": "display_data"
    }
   ],
   "source": [
    "vocab_train = common_voice_train.map(extract_all_chars, batched=True, batch_size=-1, keep_in_memory=True, remove_columns=common_voice_train.column_names)\n",
    "vocab_test = common_voice_test.map(extract_all_chars, batched=True, batch_size=-1, keep_in_memory=True, remove_columns=common_voice_test.column_names)"
   ]
  },
  {
   "cell_type": "code",
   "execution_count": 58,
   "metadata": {},
   "outputs": [],
   "source": [
    "vocab_list = list(set(vocab_train[\"vocab\"][0]) | set(vocab_test[\"vocab\"][0]))"
   ]
  },
  {
   "cell_type": "code",
   "execution_count": 59,
   "metadata": {},
   "outputs": [
    {
     "data": {
      "text/plain": [
       "{'a': 1,\n",
       " 'b': 2,\n",
       " 'c': 3,\n",
       " 'd': 4,\n",
       " 'e': 5,\n",
       " 'f': 6,\n",
       " 'g': 7,\n",
       " 'h': 8,\n",
       " 'i': 9,\n",
       " 'j': 10,\n",
       " 'k': 11,\n",
       " 'l': 12,\n",
       " 'm': 13,\n",
       " 'n': 14,\n",
       " 'o': 15,\n",
       " 'p': 16,\n",
       " 'q': 17,\n",
       " 'r': 18,\n",
       " 's': 19,\n",
       " 't': 20,\n",
       " 'u': 21,\n",
       " 'v': 22,\n",
       " 'w': 23,\n",
       " 'x': 24,\n",
       " 'y': 25,\n",
       " 'z': 26,\n",
       " 'í': 27,\n",
       " 'ƙ': 28,\n",
       " 'ƴ': 29,\n",
       " 'ɓ': 30,\n",
       " 'ɗ': 31,\n",
       " '—': 32,\n",
       " '|': 0,\n",
       " '[UNK]': 33,\n",
       " '[PAD]': 34}"
      ]
     },
     "execution_count": 59,
     "metadata": {},
     "output_type": "execute_result"
    }
   ],
   "source": [
    "vocab_dict = {v: k for k, v in enumerate(sorted(vocab_list))}\n",
    "vocab_dict[\"|\"] = vocab_dict[\" \"]\n",
    "del vocab_dict[\" \"]\n",
    "vocab_dict[\"[UNK]\"] = len(vocab_dict)\n",
    "vocab_dict[\"[PAD]\"] = len(vocab_dict)\n",
    "\n",
    "vocab_dict"
   ]
  },
  {
   "cell_type": "code",
   "execution_count": 60,
   "metadata": {},
   "outputs": [],
   "source": [
    "import json\n",
    "with open('vocab.json', 'w') as vocab_file:\n",
    "    json.dump(vocab_dict, vocab_file)"
   ]
  },
  {
   "cell_type": "code",
   "execution_count": 61,
   "metadata": {},
   "outputs": [
    {
     "name": "stderr",
     "output_type": "stream",
     "text": [
      "Special tokens have been added in the vocabulary, make sure the associated word embeddings are fine-tuned or trained.\n"
     ]
    }
   ],
   "source": [
    "from transformers import Wav2Vec2CTCTokenizer, Wav2Vec2FeatureExtractor, Wav2Vec2Processor\n",
    "\n",
    "tokenizer = Wav2Vec2CTCTokenizer.from_pretrained(\"./\", unk_token=\"[UNK]\", pad_token=\"[PAD]\", word_delimiter_token=\"|\")\n",
    "feature_extractor = Wav2Vec2FeatureExtractor(\n",
    "    feature_size=1, sampling_rate=16000, padding_value=0.0, do_normalize=True, return_attention_mask=True\n",
    ")\n",
    "\n",
    "processor = Wav2Vec2Processor(feature_extractor=feature_extractor, tokenizer=tokenizer)"
   ]
  },
  {
   "cell_type": "code",
   "execution_count": 62,
   "metadata": {},
   "outputs": [
    {
     "data": {
      "text/plain": [
       "{'path': '/root/.cache/huggingface/datasets/downloads/extracted/6349a1103b0b49515d405128e5f0a11104b958c3cc8210c45c9a73efd1ecad00/cv-corpus-11.0-2022-09-21/ha/clips/common_voice_ha_26692998.mp3',\n",
       " 'array': array([ 3.9506568e-13,  3.5970128e-13, -7.5212314e-13, ...,\n",
       "         4.8150691e-06,  7.6580716e-07,  1.0426665e-05], dtype=float32),\n",
       " 'sampling_rate': 16000}"
      ]
     },
     "execution_count": 62,
     "metadata": {},
     "output_type": "execute_result"
    }
   ],
   "source": [
    "common_voice_train[0][\"audio\"]"
   ]
  },
  {
   "cell_type": "markdown",
   "metadata": {},
   "source": [
    "Play random audio:"
   ]
  },
  {
   "cell_type": "code",
   "execution_count": 64,
   "metadata": {},
   "outputs": [
    {
     "name": "stdout",
     "output_type": "stream",
     "text": [
      "a yi addua ga yarinya mai tsarki\n"
     ]
    },
    {
     "data": {
      "text/html": [
       "\n",
       "                <audio  controls=\"controls\" autoplay=\"autoplay\">\n",
       "                    <source src=\"data:audio/wav;base64,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\" type=\"audio/wav\" />\n",
       "                    Your browser does not support the audio element.\n",
       "                </audio>\n",
       "              "
      ],
      "text/plain": [
       "<IPython.lib.display.Audio object>"
      ]
     },
     "execution_count": 64,
     "metadata": {},
     "output_type": "execute_result"
    }
   ],
   "source": [
    "import IPython.display as ipd\n",
    "import numpy as np\n",
    "import random\n",
    "\n",
    "rand_int = random.randint(0, len(common_voice_train)-1)\n",
    "\n",
    "print(common_voice_train[rand_int][\"sentence\"])\n",
    "ipd.Audio(data=common_voice_train[rand_int][\"audio\"][\"array\"], autoplay=True, rate=SAMPLING_RATE)"
   ]
  },
  {
   "cell_type": "code",
   "execution_count": 71,
   "metadata": {},
   "outputs": [
    {
     "data": {
      "application/vnd.jupyter.widget-view+json": {
       "model_id": "f99ebb7151ab4e0aaeb4d31afff294e9",
       "version_major": 2,
       "version_minor": 0
      },
      "text/plain": [
       "  0%|          | 0/2490 [00:00<?, ?ex/s]"
      ]
     },
     "metadata": {},
     "output_type": "display_data"
    },
    {
     "name": "stderr",
     "output_type": "stream",
     "text": [
      "/usr/local/lib/python3.9/dist-packages/transformers/models/wav2vec2/processing_wav2vec2.py:154: UserWarning: `as_target_processor` is deprecated and will be removed in v5 of Transformers. You can process your labels by using the argument `text` of the regular `__call__` method (either in the same call as your audio inputs, or in a separate call.\n",
      "  warnings.warn(\n"
     ]
    },
    {
     "data": {
      "application/vnd.jupyter.widget-view+json": {
       "model_id": "b2af18aa59274544937d0cbb03c84acf",
       "version_major": 2,
       "version_minor": 0
      },
      "text/plain": [
       "  0%|          | 0/542 [00:00<?, ?ex/s]"
      ]
     },
     "metadata": {},
     "output_type": "display_data"
    }
   ],
   "source": [
    "common_voice_train, common_voice_test = [\n",
    "    ds.map(partial(prepare_model_inputs, processor=processor), remove_columns=ds.column_names) \n",
    "    for ds in [common_voice_train, common_voice_test]\n",
    "]"
   ]
  },
  {
   "cell_type": "code",
   "execution_count": 72,
   "metadata": {},
   "outputs": [],
   "source": [
    "# TODO: here is a good place to split / truncate long sequences\n",
    "\n",
    "#max_input_length_in_sec = 5.0\n",
    "#common_voice_train = common_voice_train.filter(lambda x: x < max_input_length_in_sec * processor.feature_extractor.sampling_rate, input_columns=[\"input_length\"])"
   ]
  },
  {
   "cell_type": "markdown",
   "metadata": {},
   "source": [
    "## Training"
   ]
  },
  {
   "cell_type": "markdown",
   "metadata": {},
   "source": [
    "### Prepare"
   ]
  },
  {
   "cell_type": "code",
   "execution_count": 84,
   "metadata": {},
   "outputs": [],
   "source": [
    "def compute_metrics(pred, wer_metric):\n",
    "    pred_logits = pred.predictions\n",
    "    pred_ids = np.argmax(pred_logits, axis=-1)\n",
    "\n",
    "    pred.label_ids[pred.label_ids == -100] = processor.tokenizer.pad_token_id\n",
    "\n",
    "    pred_str = processor.batch_decode(pred_ids)\n",
    "    # we do not want to group tokens when computing the metrics\n",
    "    label_str = processor.batch_decode(pred.label_ids, group_tokens=False)\n",
    "\n",
    "    wer = wer_metric.compute(predictions=pred_str, references=label_str)\n",
    "\n",
    "    return {\"wer\": wer}"
   ]
  },
  {
   "cell_type": "code",
   "execution_count": 76,
   "metadata": {},
   "outputs": [],
   "source": [
    "data_collator = DataCollatorCTCWithPadding(processor=processor, padding=True)"
   ]
  },
  {
   "cell_type": "code",
   "execution_count": 82,
   "metadata": {},
   "outputs": [
    {
     "data": {
      "application/vnd.jupyter.widget-view+json": {
       "model_id": "1c818ac73832498d85fd6abd4d825fe7",
       "version_major": 2,
       "version_minor": 0
      },
      "text/plain": [
       "Downloading builder script:   0%|          | 0.00/4.49k [00:00<?, ?B/s]"
      ]
     },
     "metadata": {},
     "output_type": "display_data"
    }
   ],
   "source": [
    "wer_metric = evaluate.load(\"wer\")"
   ]
  },
  {
   "cell_type": "code",
   "execution_count": 85,
   "metadata": {},
   "outputs": [
    {
     "data": {
      "application/vnd.jupyter.widget-view+json": {
       "model_id": "e0e7ea3826694ccaa326c9072985c577",
       "version_major": 2,
       "version_minor": 0
      },
      "text/plain": [
       "Downloading:   0%|          | 0.00/1.57k [00:00<?, ?B/s]"
      ]
     },
     "metadata": {},
     "output_type": "display_data"
    },
    {
     "data": {
      "application/vnd.jupyter.widget-view+json": {
       "model_id": "a31c853e65dd49b381c42801442e31d0",
       "version_major": 2,
       "version_minor": 0
      },
      "text/plain": [
       "Downloading:   0%|          | 0.00/1.27G [00:00<?, ?B/s]"
      ]
     },
     "metadata": {},
     "output_type": "display_data"
    },
    {
     "name": "stderr",
     "output_type": "stream",
     "text": [
      "Some weights of the model checkpoint at facebook/wav2vec2-xls-r-300m were not used when initializing Wav2Vec2ForCTC: ['project_hid.bias', 'project_q.bias', 'quantizer.codevectors', 'project_hid.weight', 'project_q.weight', 'quantizer.weight_proj.bias', 'quantizer.weight_proj.weight']\n",
      "- This IS expected if you are initializing Wav2Vec2ForCTC from the checkpoint of a model trained on another task or with another architecture (e.g. initializing a BertForSequenceClassification model from a BertForPreTraining model).\n",
      "- This IS NOT expected if you are initializing Wav2Vec2ForCTC from the checkpoint of a model that you expect to be exactly identical (initializing a BertForSequenceClassification model from a BertForSequenceClassification model).\n",
      "Some weights of Wav2Vec2ForCTC were not initialized from the model checkpoint at facebook/wav2vec2-xls-r-300m and are newly initialized: ['lm_head.weight', 'lm_head.bias']\n",
      "You should probably TRAIN this model on a down-stream task to be able to use it for predictions and inference.\n"
     ]
    }
   ],
   "source": [
    "from transformers import Wav2Vec2ForCTC\n",
    "\n",
    "model = Wav2Vec2ForCTC.from_pretrained(\n",
    "    \"facebook/wav2vec2-xls-r-300m\", \n",
    "    attention_dropout=0.0,\n",
    "    hidden_dropout=0.0,\n",
    "    feat_proj_dropout=0.0,\n",
    "    mask_time_prob=0.05,\n",
    "    layerdrop=0.0,\n",
    "    ctc_loss_reduction=\"mean\", \n",
    "    pad_token_id=processor.tokenizer.pad_token_id,\n",
    "    vocab_size=len(processor.tokenizer),\n",
    ")\n",
    "\n",
    "model.freeze_feature_encoder()"
   ]
  },
  {
   "cell_type": "code",
   "execution_count": 88,
   "metadata": {},
   "outputs": [],
   "source": [
    "!mkdir -p output/models"
   ]
  },
  {
   "cell_type": "markdown",
   "metadata": {},
   "source": [
    "### Run"
   ]
  },
  {
   "cell_type": "code",
   "execution_count": 91,
   "metadata": {},
   "outputs": [
    {
     "data": {
      "text/html": [
       "Tracking run with wandb version 0.13.5"
      ],
      "text/plain": [
       "<IPython.core.display.HTML object>"
      ]
     },
     "metadata": {},
     "output_type": "display_data"
    },
    {
     "data": {
      "text/html": [
       "Run data is saved locally in <code>/notebooks/wandb/run-20221129_114611-2qzijymm</code>"
      ],
      "text/plain": [
       "<IPython.core.display.HTML object>"
      ]
     },
     "metadata": {},
     "output_type": "display_data"
    },
    {
     "data": {
      "text/html": [
       "Syncing run <strong><a href=\"https://wandb.ai/vpetukhov/FEM/runs/2qzijymm\" target=\"_blank\">wav2vec2-xls-r-300m</a></strong> to <a href=\"https://wandb.ai/vpetukhov/FEM\" target=\"_blank\">Weights & Biases</a> (<a href=\"https://wandb.me/run\" target=\"_blank\">docs</a>)<br/>"
      ],
      "text/plain": [
       "<IPython.core.display.HTML object>"
      ]
     },
     "metadata": {},
     "output_type": "display_data"
    }
   ],
   "source": [
    "import wandb\n",
    "\n",
    "wandb.login() # relies on WANDB_API_KEY env var\n",
    "run = wandb.init(project=\"FEM\", job_type=\"training\", name=\"wav2vec2-xls-r-300m\")"
   ]
  },
  {
   "cell_type": "code",
   "execution_count": 92,
   "metadata": {},
   "outputs": [
    {
     "name": "stderr",
     "output_type": "stream",
     "text": [
      "Using cuda_amp half precision backend\n"
     ]
    }
   ],
   "source": [
    "from transformers import TrainingArguments, Trainer\n",
    "\n",
    "training_args = TrainingArguments(\n",
    "  output_dir=\"output/models\",\n",
    "  group_by_length=True,\n",
    "  per_device_train_batch_size=16,\n",
    "  gradient_accumulation_steps=2,\n",
    "  evaluation_strategy=\"steps\",\n",
    "  num_train_epochs=30,\n",
    "  gradient_checkpointing=True,\n",
    "  fp16=True,\n",
    "  save_steps=400,\n",
    "  eval_steps=400,\n",
    "  logging_steps=400,\n",
    "  learning_rate=3e-4,\n",
    "  warmup_steps=500,\n",
    "  save_total_limit=2,\n",
    "  push_to_hub=False,\n",
    "  report_to=\"wandb\"\n",
    ")\n",
    "\n",
    "trainer = Trainer(\n",
    "    model=model,\n",
    "    data_collator=data_collator,\n",
    "    args=training_args,\n",
    "    compute_metrics=partial(compute_metrics, wer_metric=wer_metric),\n",
    "    train_dataset=common_voice_train,\n",
    "    eval_dataset=common_voice_test,\n",
    "    tokenizer=processor.feature_extractor,\n",
    ")"
   ]
  },
  {
   "cell_type": "code",
   "execution_count": 93,
   "metadata": {},
   "outputs": [
    {
     "name": "stderr",
     "output_type": "stream",
     "text": [
      "The following columns in the training set don't have a corresponding argument in `Wav2Vec2ForCTC.forward` and have been ignored: input_length. If input_length are not expected by `Wav2Vec2ForCTC.forward`,  you can safely ignore this message.\n",
      "/usr/local/lib/python3.9/dist-packages/transformers/optimization.py:306: FutureWarning: This implementation of AdamW is deprecated and will be removed in a future version. Use the PyTorch implementation torch.optim.AdamW instead, or set `no_deprecation_warning=True` to disable this warning\n",
      "  warnings.warn(\n",
      "***** Running training *****\n",
      "  Num examples = 2490\n",
      "  Num Epochs = 30\n",
      "  Instantaneous batch size per device = 16\n",
      "  Total train batch size (w. parallel, distributed & accumulation) = 32\n",
      "  Gradient Accumulation steps = 2\n",
      "  Total optimization steps = 2340\n",
      "  Number of trainable parameters = 311266469\n",
      "Automatic Weights & Biases logging enabled, to disable set os.environ[\"WANDB_DISABLED\"] = \"true\"\n",
      "/usr/local/lib/python3.9/dist-packages/transformers/models/wav2vec2/processing_wav2vec2.py:154: UserWarning: `as_target_processor` is deprecated and will be removed in v5 of Transformers. You can process your labels by using the argument `text` of the regular `__call__` method (either in the same call as your audio inputs, or in a separate call.\n",
      "  warnings.warn(\n"
     ]
    },
    {
     "data": {
      "text/html": [
       "\n",
       "    <div>\n",
       "      \n",
       "      <progress value='2340' max='2340' style='width:300px; height:20px; vertical-align: middle;'></progress>\n",
       "      [2340/2340 1:08:59, Epoch 30/30]\n",
       "    </div>\n",
       "    <table border=\"1\" class=\"dataframe\">\n",
       "  <thead>\n",
       " <tr style=\"text-align: left;\">\n",
       "      <th>Step</th>\n",
       "      <th>Training Loss</th>\n",
       "      <th>Validation Loss</th>\n",
       "      <th>Wer</th>\n",
       "    </tr>\n",
       "  </thead>\n",
       "  <tbody>\n",
       "    <tr>\n",
       "      <td>400</td>\n",
       "      <td>4.012400</td>\n",
       "      <td>0.852346</td>\n",
       "      <td>0.754221</td>\n",
       "    </tr>\n",
       "    <tr>\n",
       "      <td>800</td>\n",
       "      <td>0.391800</td>\n",
       "      <td>0.873531</td>\n",
       "      <td>0.658302</td>\n",
       "    </tr>\n",
       "    <tr>\n",
       "      <td>1200</td>\n",
       "      <td>0.189700</td>\n",
       "      <td>0.816051</td>\n",
       "      <td>0.600141</td>\n",
       "    </tr>\n",
       "    <tr>\n",
       "      <td>1600</td>\n",
       "      <td>0.112900</td>\n",
       "      <td>0.872997</td>\n",
       "      <td>0.583255</td>\n",
       "    </tr>\n",
       "    <tr>\n",
       "      <td>2000</td>\n",
       "      <td>0.071100</td>\n",
       "      <td>0.933075</td>\n",
       "      <td>0.567308</td>\n",
       "    </tr>\n",
       "  </tbody>\n",
       "</table><p>"
      ],
      "text/plain": [
       "<IPython.core.display.HTML object>"
      ]
     },
     "metadata": {},
     "output_type": "display_data"
    },
    {
     "name": "stderr",
     "output_type": "stream",
     "text": [
      "The following columns in the evaluation set don't have a corresponding argument in `Wav2Vec2ForCTC.forward` and have been ignored: input_length. If input_length are not expected by `Wav2Vec2ForCTC.forward`,  you can safely ignore this message.\n",
      "***** Running Evaluation *****\n",
      "  Num examples = 542\n",
      "  Batch size = 8\n",
      "Saving model checkpoint to output/models/checkpoint-400\n",
      "Configuration saved in output/models/checkpoint-400/config.json\n",
      "Model weights saved in output/models/checkpoint-400/pytorch_model.bin\n",
      "Feature extractor saved in output/models/checkpoint-400/preprocessor_config.json\n",
      "/usr/local/lib/python3.9/dist-packages/transformers/models/wav2vec2/processing_wav2vec2.py:154: UserWarning: `as_target_processor` is deprecated and will be removed in v5 of Transformers. You can process your labels by using the argument `text` of the regular `__call__` method (either in the same call as your audio inputs, or in a separate call.\n",
      "  warnings.warn(\n",
      "The following columns in the evaluation set don't have a corresponding argument in `Wav2Vec2ForCTC.forward` and have been ignored: input_length. If input_length are not expected by `Wav2Vec2ForCTC.forward`,  you can safely ignore this message.\n",
      "***** Running Evaluation *****\n",
      "  Num examples = 542\n",
      "  Batch size = 8\n",
      "Saving model checkpoint to output/models/checkpoint-800\n",
      "Configuration saved in output/models/checkpoint-800/config.json\n",
      "Model weights saved in output/models/checkpoint-800/pytorch_model.bin\n",
      "Feature extractor saved in output/models/checkpoint-800/preprocessor_config.json\n",
      "/usr/local/lib/python3.9/dist-packages/transformers/models/wav2vec2/processing_wav2vec2.py:154: UserWarning: `as_target_processor` is deprecated and will be removed in v5 of Transformers. You can process your labels by using the argument `text` of the regular `__call__` method (either in the same call as your audio inputs, or in a separate call.\n",
      "  warnings.warn(\n",
      "The following columns in the evaluation set don't have a corresponding argument in `Wav2Vec2ForCTC.forward` and have been ignored: input_length. If input_length are not expected by `Wav2Vec2ForCTC.forward`,  you can safely ignore this message.\n",
      "***** Running Evaluation *****\n",
      "  Num examples = 542\n",
      "  Batch size = 8\n",
      "Saving model checkpoint to output/models/checkpoint-1200\n",
      "Configuration saved in output/models/checkpoint-1200/config.json\n",
      "Model weights saved in output/models/checkpoint-1200/pytorch_model.bin\n",
      "Feature extractor saved in output/models/checkpoint-1200/preprocessor_config.json\n",
      "Deleting older checkpoint [output/models/checkpoint-400] due to args.save_total_limit\n",
      "/usr/local/lib/python3.9/dist-packages/transformers/models/wav2vec2/processing_wav2vec2.py:154: UserWarning: `as_target_processor` is deprecated and will be removed in v5 of Transformers. You can process your labels by using the argument `text` of the regular `__call__` method (either in the same call as your audio inputs, or in a separate call.\n",
      "  warnings.warn(\n",
      "The following columns in the evaluation set don't have a corresponding argument in `Wav2Vec2ForCTC.forward` and have been ignored: input_length. If input_length are not expected by `Wav2Vec2ForCTC.forward`,  you can safely ignore this message.\n",
      "***** Running Evaluation *****\n",
      "  Num examples = 542\n",
      "  Batch size = 8\n",
      "Saving model checkpoint to output/models/checkpoint-1600\n",
      "Configuration saved in output/models/checkpoint-1600/config.json\n",
      "Model weights saved in output/models/checkpoint-1600/pytorch_model.bin\n",
      "Feature extractor saved in output/models/checkpoint-1600/preprocessor_config.json\n",
      "Deleting older checkpoint [output/models/checkpoint-800] due to args.save_total_limit\n",
      "/usr/local/lib/python3.9/dist-packages/transformers/models/wav2vec2/processing_wav2vec2.py:154: UserWarning: `as_target_processor` is deprecated and will be removed in v5 of Transformers. You can process your labels by using the argument `text` of the regular `__call__` method (either in the same call as your audio inputs, or in a separate call.\n",
      "  warnings.warn(\n",
      "The following columns in the evaluation set don't have a corresponding argument in `Wav2Vec2ForCTC.forward` and have been ignored: input_length. If input_length are not expected by `Wav2Vec2ForCTC.forward`,  you can safely ignore this message.\n",
      "***** Running Evaluation *****\n",
      "  Num examples = 542\n",
      "  Batch size = 8\n",
      "Saving model checkpoint to output/models/checkpoint-2000\n",
      "Configuration saved in output/models/checkpoint-2000/config.json\n",
      "Model weights saved in output/models/checkpoint-2000/pytorch_model.bin\n",
      "Feature extractor saved in output/models/checkpoint-2000/preprocessor_config.json\n",
      "Deleting older checkpoint [output/models/checkpoint-1200] due to args.save_total_limit\n",
      "/usr/local/lib/python3.9/dist-packages/transformers/models/wav2vec2/processing_wav2vec2.py:154: UserWarning: `as_target_processor` is deprecated and will be removed in v5 of Transformers. You can process your labels by using the argument `text` of the regular `__call__` method (either in the same call as your audio inputs, or in a separate call.\n",
      "  warnings.warn(\n",
      "\n",
      "\n",
      "Training completed. Do not forget to share your model on huggingface.co/models =)\n",
      "\n",
      "\n"
     ]
    },
    {
     "data": {
      "text/plain": [
       "TrainOutput(global_step=2340, training_loss=0.824494434421898, metrics={'train_runtime': 4144.2279, 'train_samples_per_second': 18.025, 'train_steps_per_second': 0.565, 'total_flos': 9.905946866304827e+18, 'train_loss': 0.824494434421898, 'epoch': 30.0})"
      ]
     },
     "execution_count": 93,
     "metadata": {},
     "output_type": "execute_result"
    }
   ],
   "source": [
    "trainer.train()"
   ]
  },
  {
   "cell_type": "code",
   "execution_count": 94,
   "metadata": {},
   "outputs": [
    {
     "data": {
      "text/html": [
       "Waiting for W&B process to finish... <strong style=\"color:green\">(success).</strong>"
      ],
      "text/plain": [
       "<IPython.core.display.HTML object>"
      ]
     },
     "metadata": {},
     "output_type": "display_data"
    },
    {
     "data": {
      "application/vnd.jupyter.widget-view+json": {
       "model_id": "2905aa14058d488c91354607cc10332f",
       "version_major": 2,
       "version_minor": 0
      },
      "text/plain": [
       "VBox(children=(Label(value='0.002 MB of 0.002 MB uploaded (0.000 MB deduped)\\r'), FloatProgress(value=1.0, max…"
      ]
     },
     "metadata": {},
     "output_type": "display_data"
    },
    {
     "data": {
      "text/html": [
       "<style>\n",
       "    table.wandb td:nth-child(1) { padding: 0 10px; text-align: left ; width: auto;} td:nth-child(2) {text-align: left ; width: 100%}\n",
       "    .wandb-row { display: flex; flex-direction: row; flex-wrap: wrap; justify-content: flex-start; width: 100% }\n",
       "    .wandb-col { display: flex; flex-direction: column; flex-basis: 100%; flex: 1; padding: 10px; }\n",
       "    </style>\n",
       "<div class=\"wandb-row\"><div class=\"wandb-col\"><h3>Run history:</h3><br/><table class=\"wandb\"><tr><td>eval/loss</td><td>▃▄▁▄█</td></tr><tr><td>eval/runtime</td><td>▃█▂▁▃</td></tr><tr><td>eval/samples_per_second</td><td>▆▁▆█▆</td></tr><tr><td>eval/steps_per_second</td><td>▆▁▆█▆</td></tr><tr><td>eval/wer</td><td>█▄▂▂▁</td></tr><tr><td>train/epoch</td><td>▁▁▂▂▄▄▅▅▇▇█</td></tr><tr><td>train/global_step</td><td>▁▁▂▂▄▄▅▅▇▇█</td></tr><tr><td>train/learning_rate</td><td>██▆▃▁</td></tr><tr><td>train/loss</td><td>█▂▁▁▁</td></tr><tr><td>train/total_flos</td><td>▁</td></tr><tr><td>train/train_loss</td><td>▁</td></tr><tr><td>train/train_runtime</td><td>▁</td></tr><tr><td>train/train_samples_per_second</td><td>▁</td></tr><tr><td>train/train_steps_per_second</td><td>▁</td></tr></table><br/></div><div class=\"wandb-col\"><h3>Run summary:</h3><br/><table class=\"wandb\"><tr><td>eval/loss</td><td>0.93308</td></tr><tr><td>eval/runtime</td><td>23.0772</td></tr><tr><td>eval/samples_per_second</td><td>23.486</td></tr><tr><td>eval/steps_per_second</td><td>2.947</td></tr><tr><td>eval/wer</td><td>0.56731</td></tr><tr><td>train/epoch</td><td>30.0</td></tr><tr><td>train/global_step</td><td>2340</td></tr><tr><td>train/learning_rate</td><td>6e-05</td></tr><tr><td>train/loss</td><td>0.0711</td></tr><tr><td>train/total_flos</td><td>9.905946866304827e+18</td></tr><tr><td>train/train_loss</td><td>0.82449</td></tr><tr><td>train/train_runtime</td><td>4144.2279</td></tr><tr><td>train/train_samples_per_second</td><td>18.025</td></tr><tr><td>train/train_steps_per_second</td><td>0.565</td></tr></table><br/></div></div>"
      ],
      "text/plain": [
       "<IPython.core.display.HTML object>"
      ]
     },
     "metadata": {},
     "output_type": "display_data"
    },
    {
     "data": {
      "text/html": [
       "Synced <strong style=\"color:#cdcd00\">wav2vec2-xls-r-300m</strong>: <a href=\"https://wandb.ai/vpetukhov/FEM/runs/2qzijymm\" target=\"_blank\">https://wandb.ai/vpetukhov/FEM/runs/2qzijymm</a><br/>Synced 5 W&B file(s), 0 media file(s), 0 artifact file(s) and 0 other file(s)"
      ],
      "text/plain": [
       "<IPython.core.display.HTML object>"
      ]
     },
     "metadata": {},
     "output_type": "display_data"
    },
    {
     "data": {
      "text/html": [
       "Find logs at: <code>./wandb/run-20221129_114611-2qzijymm/logs</code>"
      ],
      "text/plain": [
       "<IPython.core.display.HTML object>"
      ]
     },
     "metadata": {},
     "output_type": "display_data"
    }
   ],
   "source": [
    "wandb.finish()"
   ]
  }
 ],
 "metadata": {
  "kernelspec": {
   "display_name": "Python 3 (ipykernel)",
   "language": "python",
   "name": "python3"
  },
  "language_info": {
   "codemirror_mode": {
    "name": "ipython",
    "version": 3
   },
   "file_extension": ".py",
   "mimetype": "text/x-python",
   "name": "python",
   "nbconvert_exporter": "python",
   "pygments_lexer": "ipython3",
   "version": "3.9.13"
  }
 },
 "nbformat": 4,
 "nbformat_minor": 0
}
